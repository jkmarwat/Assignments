{
  "cells": [
    {
      "cell_type": "markdown",
      "metadata": {
        "id": "view-in-github",
        "colab_type": "text"
      },
      "source": [
        "<a href=\"https://colab.research.google.com/github/jkmarwat/Assignments/blob/main/AssignmentSystemML_(1).ipynb\" target=\"_parent\"><img src=\"https://colab.research.google.com/assets/colab-badge.svg\" alt=\"Open In Colab\"/></a>"
      ]
    },
    {
      "cell_type": "markdown",
      "metadata": {
        "id": "DxMMsyFtmbTy"
      },
      "source": [
        "# Assignment 4\n",
        "## Understaning scaling of linear algebra operations on Apache Spark using Apache SystemML\n",
        "\n",
        "In this assignment we want you to understand how to scale linear algebra operations from a single machine to multiple machines, memory and CPU cores using Apache SystemML. Therefore we want you to understand how to migrate from a numpy program to a SystemML DML program. Don't worry. We will give you a lot of hints. Finally, you won't need this knowledge anyways if you are sticking to Keras only, but once you go beyond that point you'll be happy to see what's going on behind the scenes.\n",
        "\n",
        "So the first thing we need to ensure is that we are on the latest version of SystemML, which is 1.2.0:\n",
        "\n",
        "The steps are:\n",
        "- pip install\n",
        "- start execution at the cell with the version - check"
      ]
    },
    {
      "cell_type": "code",
      "execution_count": 1,
      "metadata": {
        "id": "Qx2qeyXTmbT6"
      },
      "outputs": [],
      "source": [
        "from IPython.display import Markdown, display\n",
        "def printmd(string):\n",
        "    display(Markdown('# <span style=\"color:red\">'+string+'</span>'))\n",
        "\n",
        "\n",
        "if ('sc' in locals() or 'sc' in globals()):\n",
        "    printmd('<<<<<!!!!! It seems that you are running in a IBM Watson Studio Apache Spark Notebook. Please run it in an IBM Watson Studio Default Runtime (without Apache Spark) !!!!!>>>>>')\n",
        "\n"
      ]
    },
    {
      "cell_type": "code",
      "execution_count": 2,
      "metadata": {
        "colab": {
          "base_uri": "https://localhost:8080/"
        },
        "id": "HKTOiDVjmbT-",
        "outputId": "be3bd422-ec13-445e-eb04-c6ff3d9b1c9e"
      },
      "outputs": [
        {
          "output_type": "stream",
          "name": "stdout",
          "text": [
            "Requirement already satisfied: pyspark==3.2.1 in /usr/local/lib/python3.10/dist-packages (3.2.1)\n",
            "Requirement already satisfied: py4j==0.10.9.3 in /usr/local/lib/python3.10/dist-packages (from pyspark==3.2.1) (0.10.9.3)\n"
          ]
        }
      ],
      "source": [
        "!pip install pyspark==3.2.1"
      ]
    },
    {
      "cell_type": "code",
      "execution_count": 3,
      "metadata": {
        "colab": {
          "base_uri": "https://localhost:8080/"
        },
        "id": "aCbBXiLGmbT_",
        "outputId": "e3daa9aa-5460-4aca-f9c0-5ad409812f69"
      },
      "outputs": [
        {
          "output_type": "stream",
          "name": "stdout",
          "text": [
            "Requirement already satisfied: systemds==2.2.1 in /usr/local/lib/python3.10/dist-packages (2.2.1)\n",
            "Requirement already satisfied: numpy>=1.8.2 in /usr/local/lib/python3.10/dist-packages (from systemds==2.2.1) (1.22.4)\n",
            "Requirement already satisfied: py4j>=0.10.9 in /usr/local/lib/python3.10/dist-packages (from systemds==2.2.1) (0.10.9.3)\n",
            "Requirement already satisfied: requests>=2.24.0 in /usr/local/lib/python3.10/dist-packages (from systemds==2.2.1) (2.27.1)\n",
            "Requirement already satisfied: pandas>=1.2.2 in /usr/local/lib/python3.10/dist-packages (from systemds==2.2.1) (1.5.3)\n",
            "Requirement already satisfied: python-dateutil>=2.8.1 in /usr/local/lib/python3.10/dist-packages (from pandas>=1.2.2->systemds==2.2.1) (2.8.2)\n",
            "Requirement already satisfied: pytz>=2020.1 in /usr/local/lib/python3.10/dist-packages (from pandas>=1.2.2->systemds==2.2.1) (2022.7.1)\n",
            "Requirement already satisfied: urllib3<1.27,>=1.21.1 in /usr/local/lib/python3.10/dist-packages (from requests>=2.24.0->systemds==2.2.1) (1.26.16)\n",
            "Requirement already satisfied: certifi>=2017.4.17 in /usr/local/lib/python3.10/dist-packages (from requests>=2.24.0->systemds==2.2.1) (2023.5.7)\n",
            "Requirement already satisfied: charset-normalizer~=2.0.0 in /usr/local/lib/python3.10/dist-packages (from requests>=2.24.0->systemds==2.2.1) (2.0.12)\n",
            "Requirement already satisfied: idna<4,>=2.5 in /usr/local/lib/python3.10/dist-packages (from requests>=2.24.0->systemds==2.2.1) (3.4)\n",
            "Requirement already satisfied: six>=1.5 in /usr/local/lib/python3.10/dist-packages (from python-dateutil>=2.8.1->pandas>=1.2.2->systemds==2.2.1) (1.16.0)\n"
          ]
        }
      ],
      "source": [
        "!pip install systemds==2.2.1"
      ]
    },
    {
      "cell_type": "code",
      "execution_count": 4,
      "metadata": {
        "id": "j-AzyzyEmbUA"
      },
      "outputs": [],
      "source": [
        "from pyspark import SparkContext, SparkConf\n",
        "from pyspark.sql import SQLContext, SparkSession\n",
        "from pyspark.sql.types import StructType, StructField, DoubleType, IntegerType, StringType\n",
        "sc = SparkContext.getOrCreate(SparkConf().setMaster(\"local[*]\"))\n",
        "from pyspark.sql import SparkSession\n",
        "spark = SparkSession \\\n",
        "    .builder \\\n",
        "    .getOrCreate()"
      ]
    },
    {
      "cell_type": "code",
      "execution_count": 5,
      "metadata": {
        "id": "Y1D_ThEQmbUA"
      },
      "outputs": [],
      "source": [
        "import numpy as np\n",
        "u = np.random.rand(1000,10000)\n",
        "s = np.random.rand(10000,1000)\n",
        "w = np.random.rand(1000,1000)"
      ]
    },
    {
      "cell_type": "markdown",
      "metadata": {
        "id": "qJRBQXIdmbUB"
      },
      "source": [
        "Now we implement a short one-liner to define a very simple linear algebra operation\n",
        "\n",
        "In case you are unfamiliar with matrxi-matrix multiplication: https://en.wikipedia.org/wiki/Matrix_multiplication\n",
        "\n",
        "sum(U' * (W . (U * S)))\n",
        "\n",
        "\n",
        "| Legend        |            |   \n",
        "| ------------- |-------------|\n",
        "| '      | transpose of a matrix |\n",
        "| * | matrix-matrix multiplication      |  \n",
        "| . | scalar multiplication      |   \n",
        "\n"
      ]
    },
    {
      "cell_type": "code",
      "execution_count": 6,
      "metadata": {
        "colab": {
          "base_uri": "https://localhost:8080/"
        },
        "id": "zp7E3IQlmbUB",
        "outputId": "7df69a84-9752-4d13-9500-2b993c6c07a1"
      },
      "outputs": [
        {
          "output_type": "stream",
          "name": "stdout",
          "text": [
            "1.4566984176635742\n"
          ]
        }
      ],
      "source": [
        "import time\n",
        "start = time.time()\n",
        "res = np.sum(u.T.dot(w * u.dot(s)))\n",
        "print (time.time()-start)"
      ]
    },
    {
      "cell_type": "markdown",
      "metadata": {
        "id": "aJY__Q9jmbUD"
      },
      "source": [
        "As you can see this executes perfectly fine. Note that this is even a very efficient execution because numpy uses a C/C++ backend which is known for it's performance. But what happens if U, S or W get such big that the available main memory cannot cope with it? Let's give it a try:"
      ]
    },
    {
      "cell_type": "code",
      "execution_count": 7,
      "metadata": {
        "id": "0f42GHpymbUE"
      },
      "outputs": [],
      "source": [
        "#u = np.random.rand(10000,100000)\n",
        "#s = np.random.rand(100000,10000)\n",
        "#w = np.random.rand(10000,10000)"
      ]
    },
    {
      "cell_type": "markdown",
      "metadata": {
        "id": "BqSd6dcQmbUF"
      },
      "source": [
        "After a short while you should see a memory error. This is because the operating system process was not able to allocate enough memory for storing the numpy array on the heap. Now it's time to re-implement the very same operations in SystemDS, and this is your task. Just replace all ###your_code_goes_here sections with proper code, please consider the following table which contains all syntax you need:\n",
        "\n",
        "| Syntax        |            |   \n",
        "| ------------- |-------------|\n",
        "| M.t()      | transpose of a matrix, where M is the matrix |\n",
        "| `M.__matmul__(N)` | matrix-matrix multiplication between M and N      |  \n",
        "| M * N | scalar multiplication between matrix M and N     |   \n",
        "\n",
        "\n",
        "## Task"
      ]
    },
    {
      "cell_type": "markdown",
      "metadata": {
        "id": "F7hCaq48mbUF"
      },
      "source": [
        "We use SystemDSContext to interface with Apache SystemDS (formerly SystemML). Note that we passed a SparkSession object as parameter to SystemDSContext so now it knows how how to talk to the Apache Spark cluster"
      ]
    },
    {
      "cell_type": "code",
      "execution_count": 23,
      "metadata": {
        "colab": {
          "base_uri": "https://localhost:8080/"
        },
        "id": "EFZ0fjmsmbUG",
        "outputId": "6ad0de62-7e17-4434-916f-e3cb41fffc7c"
      },
      "outputs": [
        {
          "output_type": "stream",
          "name": "stdout",
          "text": [
            "6251591163021715.0\n"
          ]
        }
      ],
      "source": [
        "from systemds.context import SystemDSContext\n",
        "\n",
        "\n",
        "with SystemDSContext(spark) as sds:\n",
        "    # Now we create some large random matrices to have numpy and SystemDS crunch on it\n",
        "    U = sds.rand(rows=1000,cols=10000)\n",
        "    S = sds.rand(rows=10000,cols=1000)\n",
        "    W = sds.rand(rows=1000,cols=1000)\n",
        "    #res = (U.###your_code_goes_here.###your_code_goes_here((W * (U.###your_code_goes_here(S))))).sum()\n",
        "    res = (U @ (S @ W @ U)).sum()\n",
        "    print(res.compute())\n"
      ]
    },
    {
      "cell_type": "markdown",
      "metadata": {
        "id": "WhB_FDGYmbUH"
      },
      "source": [
        "In order to show you the advantage of SystemML over numpy we've blown up the sizes of the matrices. Unfortunately, on a 1-2 worker Spark cluster it takes quite some time to complete. Therefore we've stripped down the example to smaller matrices below, but we've kept the code, just in case you are curious to check it out. But you might want to use some more workers which you easily can configure in the environment settings of the project within Watson Studio. Just be aware that you're currently limited to free 50 capacity unit hours per month wich are consumed by the additional workers."
      ]
    },
    {
      "cell_type": "markdown",
      "metadata": {
        "id": "Nu5sSd8smbUI"
      },
      "source": [
        "To get consistent results we switch from a random matrix initialization to something deterministic"
      ]
    },
    {
      "cell_type": "markdown",
      "metadata": {
        "id": "gI_neZHRmbUI"
      },
      "source": [
        "If everything runs fine you should get *6252492444241.075* as result (or something in that bullpark). Feel free to submit your solutionto the grader now!\n",
        "\n",
        "### Submission"
      ]
    },
    {
      "cell_type": "code",
      "execution_count": 24,
      "metadata": {
        "colab": {
          "base_uri": "https://localhost:8080/"
        },
        "id": "CL968ImCmbUJ",
        "outputId": "19132508-071a-4c0d-a558-78a829c9131e"
      },
      "outputs": [
        {
          "output_type": "stream",
          "name": "stdout",
          "text": [
            "/bin/bash: del: command not found\n",
            "--2023-07-12 19:53:11--  https://raw.githubusercontent.com/romeokienzler/developerWorks/master/coursera/ai/rklib.py\n",
            "Resolving raw.githubusercontent.com (raw.githubusercontent.com)... 185.199.111.133, 185.199.109.133, 185.199.108.133, ...\n",
            "Connecting to raw.githubusercontent.com (raw.githubusercontent.com)|185.199.111.133|:443... connected.\n",
            "HTTP request sent, awaiting response... 200 OK\n",
            "Length: 2289 (2.2K) [text/plain]\n",
            "Saving to: ‘rklib.py.2’\n",
            "\n",
            "rklib.py.2          100%[===================>]   2.24K  --.-KB/s    in 0s      \n",
            "\n",
            "2023-07-12 19:53:11 (29.1 MB/s) - ‘rklib.py.2’ saved [2289/2289]\n",
            "\n"
          ]
        }
      ],
      "source": [
        "!del -f rklib.py\n",
        "!wget https://raw.githubusercontent.com/romeokienzler/developerWorks/master/coursera/ai/rklib.py"
      ]
    },
    {
      "cell_type": "code",
      "execution_count": 25,
      "metadata": {
        "id": "OZzU-Md-mbUK"
      },
      "outputs": [],
      "source": [
        "from rklib import submit\n",
        "key = \"esRk7vn-Eeej-BLTuYzd0g\"\n",
        "\n",
        "\n",
        "email = \"jkhan.m@gmail.com\""
      ]
    },
    {
      "cell_type": "code",
      "execution_count": 26,
      "metadata": {
        "colab": {
          "base_uri": "https://localhost:8080/"
        },
        "id": "hNO6vdixmbUL",
        "outputId": "2eb7efa9-922b-48aa-da51-2150419a640f"
      },
      "outputs": [
        {
          "output_type": "stream",
          "name": "stdout",
          "text": [
            "Submission successful, please check on the coursera grader page for the status\n",
            "-------------------------\n",
            "{\"elements\":[{\"itemId\":\"P1p3F\",\"id\":\"tE4j0qhMEeecqgpT6QjMdA~P1p3F~vTBIDiDtEe6dwBL7MbSPSw\",\"courseId\":\"tE4j0qhMEeecqgpT6QjMdA\"}],\"paging\":{},\"linked\":{}}\n",
            "-------------------------\n"
          ]
        }
      ],
      "source": [
        "part = \"fUxc8\"\n",
        "token = \"MQSH48R8jx0uEFQO\"\n",
        "submit(email, token, key, part, [part], res.script.dml_script.replace('\\n','x'))"
      ]
    },
    {
      "cell_type": "code",
      "execution_count": 11,
      "metadata": {
        "id": "4mykmrs3mbUL"
      },
      "outputs": [],
      "source": []
    }
  ],
  "metadata": {
    "kernelspec": {
      "display_name": "Python 3 (ipykernel)",
      "language": "python",
      "name": "python3"
    },
    "language_info": {
      "codemirror_mode": {
        "name": "ipython",
        "version": 3
      },
      "file_extension": ".py",
      "mimetype": "text/x-python",
      "name": "python",
      "nbconvert_exporter": "python",
      "pygments_lexer": "ipython3",
      "version": "3.9.13"
    },
    "colab": {
      "provenance": [],
      "include_colab_link": true
    }
  },
  "nbformat": 4,
  "nbformat_minor": 0
}